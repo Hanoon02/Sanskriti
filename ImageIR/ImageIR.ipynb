{
 "cells": [
  {
   "cell_type": "code",
   "execution_count": 8,
   "metadata": {},
   "outputs": [],
   "source": [
    "import csv\n",
    "import os\n",
    "\n",
    "def add_image_info_to_csv(image_path, class_name=\"Test\", key_terms=\"Test\"):\n",
    "    csv_file_name = 'Image_Keyterms.csv'\n",
    "    file_exists = os.path.isfile(csv_file_name)\n",
    "    with open(csv_file_name, mode='a', newline='', encoding='utf-8') as file:\n",
    "        writer = csv.writer(file)\n",
    "        if not file_exists:\n",
    "            writer.writerow(['Path', 'Class', 'Keyterms'])\n",
    "        writer.writerow([image_path, class_name, key_terms])\n",
    "\n",
    "image_path = \"(1).jpg\"\n",
    "add_image_info_to_csv(image_path)\n"
   ]
  },
  {
   "cell_type": "code",
   "execution_count": 12,
   "metadata": {},
   "outputs": [],
   "source": [
    "import csv\n",
    "import os\n",
    "import ast\n",
    "\n",
    "def add_image_info_to_csv(image_path, class_name, key_terms):\n",
    "    csv_file_name = 'Image_Keyterms.csv'\n",
    "    file_exists = os.path.isfile(csv_file_name)\n",
    "    with open(csv_file_name, mode='a', newline='', encoding='utf-8') as file:\n",
    "        writer = csv.writer(file)\n",
    "        if not file_exists:\n",
    "            writer.writerow(['Path', 'Class', 'Keyterms'])\n",
    "        image_path = \"'{}'\".format(image_path)\n",
    "        class_name = \"'{}'\".format(class_name)\n",
    "        writer.writerow([image_path, class_name] + [key_terms])\n",
    "\n",
    "image_path = \"(1).jpg\"\n",
    "class_name = \"Scenery\"\n",
    "key_terms = [\"Sunset\", \"Beach\", \"Sea\"]\n",
    "add_image_info_to_csv(image_path, class_name, key_terms)\n"
   ]
  }
 ],
 "metadata": {
  "kernelspec": {
   "display_name": "Python 3.9.10 64-bit ('3.9.10')",
   "language": "python",
   "name": "python3"
  },
  "language_info": {
   "codemirror_mode": {
    "name": "ipython",
    "version": 3
   },
   "file_extension": ".py",
   "mimetype": "text/x-python",
   "name": "python",
   "nbconvert_exporter": "python",
   "pygments_lexer": "ipython3",
   "version": "3.9.10"
  },
  "orig_nbformat": 4,
  "vscode": {
   "interpreter": {
    "hash": "3c9c1cb92ab039c53a0f0c6a3a1c445ea784bd0a545c5bb81dae74e9464ebef1"
   }
  }
 },
 "nbformat": 4,
 "nbformat_minor": 2
}
