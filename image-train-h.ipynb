{
 "cells": [
  {
   "cell_type": "code",
   "execution_count": 49,
   "metadata": {},
   "outputs": [],
   "source": [
    "import torch\n",
    "from PIL import Image\n",
    "import os\n",
    "from tqdm import tqdm\n",
    "from torch.utils.data import Dataset\n",
    "import torchvision.transforms as T\n",
    "from tqdm import tqdm\n",
    "import torch.nn as nn\n",
    "import torch.optim as optim"
   ]
  },
  {
   "cell_type": "code",
   "execution_count": 51,
   "metadata": {},
   "outputs": [],
   "source": [
    "class FolderDataset(Dataset):\n",
    "    def __init__(self, main_dir, transform=None):\n",
    "        self.main_dir = main_dir\n",
    "        self.transform = transform\n",
    "        self.all_imgs = os.listdir(main_dir)\n",
    "\n",
    "    def __len__(self):\n",
    "        return len(self.all_imgs)\n",
    "\n",
    "    def __getitem__(self, idx):\n",
    "        img_loc = os.path.join(self.main_dir, self.all_imgs[idx])\n",
    "        image = Image.open(img_loc).convert(\"RGB\")\n",
    "        if self.transform is not None:\n",
    "            tensor_image = self.transform(image)\n",
    "        return tensor_image, tensor_image"
   ]
  },
  {
   "cell_type": "code",
   "execution_count": 67,
   "metadata": {},
   "outputs": [],
   "source": [
    "__all__ = [\"ConvEncoder\", \"ConvDecoder\"]\n",
    "\n",
    "import torch\n",
    "import torch.nn as nn\n",
    "\n",
    "# import config\n",
    "\n",
    "\n",
    "class ConvEncoder(nn.Module):\n",
    "    \"\"\"\n",
    "    A simple Convolutional Encoder Model\n",
    "    \"\"\"\n",
    "\n",
    "    def __init__(self):\n",
    "        super().__init__()\n",
    "        # self.img_size = img_size\n",
    "        self.conv1 = nn.Conv2d(3, 16, (3, 3), padding=(1, 1))\n",
    "        self.relu1 = nn.ReLU(inplace=True)\n",
    "        self.maxpool1 = nn.MaxPool2d((2, 2))\n",
    "\n",
    "        self.conv2 = nn.Conv2d(16, 32, (3, 3), padding=(1, 1))\n",
    "        self.relu2 = nn.ReLU(inplace=True)\n",
    "        self.maxpool2 = nn.MaxPool2d((2, 2))\n",
    "\n",
    "        self.conv3 = nn.Conv2d(32, 64, (3, 3), padding=(1, 1))\n",
    "        self.relu3 = nn.ReLU(inplace=True)\n",
    "        self.maxpool3 = nn.MaxPool2d((2, 2))\n",
    "\n",
    "        self.conv4 = nn.Conv2d(64, 128, (3, 3), padding=(1, 1))\n",
    "        self.relu4 = nn.ReLU(inplace=True)\n",
    "        self.maxpool4 = nn.MaxPool2d((2, 2))\n",
    "\n",
    "        self.conv5 = nn.Conv2d(128, 256, (3, 3), padding=(1, 1))\n",
    "        self.relu5 = nn.ReLU(inplace=True)\n",
    "        self.maxpool5 = nn.MaxPool2d((2, 2))\n",
    "\n",
    "    def forward(self, x):\n",
    "        x = self.conv1(x)\n",
    "        x = self.relu1(x)\n",
    "        x = self.maxpool1(x)\n",
    "        x = self.conv2(x)\n",
    "        x = self.relu2(x)\n",
    "        x = self.maxpool2(x)\n",
    "        x = self.conv3(x)\n",
    "        x = self.relu3(x)\n",
    "        x = self.maxpool3(x)\n",
    "        x = self.conv4(x)\n",
    "        x = self.relu4(x)\n",
    "        x = self.maxpool4(x)\n",
    "        x = self.conv5(x)\n",
    "        x = self.relu5(x)\n",
    "        x = self.maxpool5(x)\n",
    "        # print(x.shape)\n",
    "        return x\n",
    "\n",
    "\n",
    "class ConvDecoder(nn.Module):\n",
    "    \"\"\"\n",
    "    A simple Convolutional Decoder Model\n",
    "    \"\"\"\n",
    "\n",
    "    def __init__(self):\n",
    "        super().__init__()\n",
    "        self.deconv1 = nn.ConvTranspose2d(256, 128, (2, 2), stride=(2, 2))\n",
    "        self.relu1 = nn.ReLU(inplace=True)\n",
    "        self.deconv2 = nn.ConvTranspose2d(128, 64, (2, 2), stride=(2, 2))\n",
    "        self.relu2 = nn.ReLU(inplace=True)\n",
    "        self.deconv3 = nn.ConvTranspose2d(64, 32, (2, 2), stride=(2, 2))\n",
    "        self.relu3 = nn.ReLU(inplace=True)\n",
    "        self.deconv4 = nn.ConvTranspose2d(32, 16, (2, 2), stride=(2, 2))\n",
    "        self.relu4 = nn.ReLU(inplace=True)\n",
    "        self.deconv5 = nn.ConvTranspose2d(16, 3, (2, 2), stride=(2, 2))\n",
    "        self.relu5 = nn.ReLU(inplace=True)\n",
    "\n",
    "    def forward(self, x):\n",
    "        x = self.deconv1(x)\n",
    "        x = self.relu1(x)\n",
    "        x = self.deconv2(x)\n",
    "        x = self.relu2(x)\n",
    "        x = self.deconv3(x)\n",
    "        x = self.relu3(x)\n",
    "        x = self.deconv4(x)\n",
    "        x = self.relu4(x)\n",
    "        x = self.deconv5(x)\n",
    "        x = self.relu5(x)\n",
    "        return x"
   ]
  },
  {
   "cell_type": "code",
   "execution_count": 54,
   "metadata": {},
   "outputs": [],
   "source": [
    "import os\n",
    "import shutil\n",
    "\n",
    "def rename_and_copy_images(source_dir, dest_dir):\n",
    "    if not os.path.exists(dest_dir):\n",
    "        os.makedirs(dest_dir)\n",
    "    for label in os.listdir(source_dir):\n",
    "        label_dir = os.path.join(source_dir, label)\n",
    "        if os.path.isdir(label_dir):\n",
    "            for file in os.listdir(label_dir):\n",
    "                if any(file.lower().endswith(ext) for ext in ['.jpg', '.jpeg', '.png']):\n",
    "                    new_name = f\"{label}_{file}\"\n",
    "                    source_file = os.path.join(label_dir, file)\n",
    "                    dest_file = os.path.join(dest_dir, new_name)\n",
    "                    shutil.copy(source_file, dest_file)\n",
    "\n",
    "if __name__ == \"__main__\":\n",
    "    source_directory = \"ImageData/MonumentsData/train\"\n",
    "    destination_directory = \"ImageData/CleanMonumentsData/train\"\n",
    "    if not os.path.exists(destination_directory):\n",
    "        os.makedirs(destination_directory)\n",
    "    rename_and_copy_images(source_directory, destination_directory)\n"
   ]
  },
  {
   "cell_type": "code",
   "execution_count": 75,
   "metadata": {},
   "outputs": [],
   "source": [
    "IMG_PATH = \"ImageData/CleanMonumentsData/train/\"\n",
    "IMG_HEIGHT = 512  \n",
    "IMG_WIDTH = 512  \n",
    "\n",
    "SEED = 42\n",
    "TRAIN_RATIO = 0.75\n",
    "VAL_RATIO = 1 - TRAIN_RATIO\n",
    "SHUFFLE_BUFFER_SIZE = 100\n",
    "\n",
    "LEARNING_RATE = 1e-3\n",
    "EPOCHS = 3\n",
    "TRAIN_BATCH_SIZE = 32  \n",
    "TEST_BATCH_SIZE = 32  \n",
    "FULL_BATCH_SIZE = 32\n",
    "\n",
    "ENCODER_MODEL_PATH = \"baseline_encoder.pt\"\n",
    "DECODER_MODEL_PATH = \"baseline_decoder.pt\"\n",
    "EMBEDDING_SHAPE = (1, 256, 16, 16)\n",
    "# TEST_RATIO = 0.2"
   ]
  },
  {
   "cell_type": "code",
   "execution_count": 68,
   "metadata": {},
   "outputs": [],
   "source": [
    "import torch\n",
    "import torch.nn as nn\n",
    "\n",
    "def train_step(encoder, decoder, train_loader, loss_fn, optimizer, device):\n",
    "    encoder.train()\n",
    "    decoder.train()\n",
    "    for batch_idx, (train_img, target_img) in enumerate(train_loader):\n",
    "        train_img = train_img.to(device)\n",
    "        target_img = target_img.to(device)\n",
    "        optimizer.zero_grad()\n",
    "        enc_output = encoder(train_img)\n",
    "        dec_output = decoder(enc_output)\n",
    "        loss = loss_fn(dec_output, target_img)\n",
    "        loss.backward()\n",
    "        optimizer.step()\n",
    "\n",
    "    return loss.item()\n",
    "\n",
    "\n",
    "def val_step(encoder, decoder, val_loader, loss_fn, device):\n",
    "    encoder.eval()\n",
    "    decoder.eval()\n",
    "\n",
    "    with torch.no_grad():\n",
    "        for batch_idx, (train_img, target_img) in enumerate(val_loader):\n",
    "            train_img = train_img.to(device)\n",
    "            target_img = target_img.to(device)\n",
    "            enc_output = encoder(train_img)\n",
    "            dec_output = decoder(enc_output)\n",
    "            loss = loss_fn(dec_output, target_img)\n",
    "\n",
    "    return loss.item()"
   ]
  },
  {
   "cell_type": "code",
   "execution_count": 69,
   "metadata": {},
   "outputs": [
    {
     "name": "stdout",
     "output_type": "stream",
     "text": [
      "------------ Creating Dataset ------------\n",
      "------------ Dataset Created ------------\n",
      "------------ Creating DataLoader ------------\n"
     ]
    }
   ],
   "source": [
    "if torch.cuda.is_available():\n",
    "    device = \"cuda\"\n",
    "else:\n",
    "    device = \"cpu\"\n",
    "\n",
    "transforms = T.Compose([T.Resize((IMG_HEIGHT, IMG_WIDTH)), T.ToTensor()])\n",
    "\n",
    "print(\"------------ Creating Dataset ------------\")\n",
    "full_dataset = FolderDataset(IMG_PATH, transforms)\n",
    "\n",
    "train_size = int(TRAIN_RATIO * len(full_dataset))\n",
    "val_size = len(full_dataset) - train_size\n",
    "\n",
    "train_dataset, val_dataset = torch.utils.data.random_split(\n",
    "    full_dataset, [train_size, val_size]\n",
    ")\n",
    "\n",
    "print(\"------------ Dataset Created ------------\")\n",
    "print(\"------------ Creating DataLoader ------------\")\n",
    "train_loader = torch.utils.data.DataLoader(\n",
    "    train_dataset, batch_size=TRAIN_BATCH_SIZE, shuffle=True, drop_last=True\n",
    ")\n",
    "val_loader = torch.utils.data.DataLoader(\n",
    "    val_dataset, batch_size=TEST_BATCH_SIZE\n",
    ")\n",
    "\n",
    "full_loader = torch.utils.data.DataLoader(\n",
    "    full_dataset, batch_size=FULL_BATCH_SIZE\n",
    ")"
   ]
  },
  {
   "cell_type": "code",
   "execution_count": 70,
   "metadata": {},
   "outputs": [
    {
     "name": "stdout",
     "output_type": "stream",
     "text": [
      "------------ Dataloader Created ------------\n",
      "Moving models to CPU\n",
      "------------ Training started ------------\n"
     ]
    },
    {
     "name": "stderr",
     "output_type": "stream",
     "text": [
      "  0%|          | 0/3 [00:00<?, ?it/s]"
     ]
    },
    {
     "name": "stdout",
     "output_type": "stream",
     "text": [
      "Epochs = 0, Training Loss : 0.031207827851176262\n"
     ]
    },
    {
     "name": "stderr",
     "output_type": "stream",
     "text": [
      " 33%|███▎      | 1/3 [06:25<12:51, 385.91s/it]"
     ]
    },
    {
     "name": "stdout",
     "output_type": "stream",
     "text": [
      "Validation Loss decreased, saving new best model\n",
      "Epochs = 0, Validation Loss : 0.03336744010448456\n",
      "Epochs = 1, Training Loss : 0.0245977733284235\n"
     ]
    },
    {
     "name": "stderr",
     "output_type": "stream",
     "text": [
      " 67%|██████▋   | 2/3 [12:40<06:19, 379.51s/it]"
     ]
    },
    {
     "name": "stdout",
     "output_type": "stream",
     "text": [
      "Validation Loss decreased, saving new best model\n",
      "Epochs = 1, Validation Loss : 0.02556123584508896\n",
      "Epochs = 2, Training Loss : 0.022636428475379944\n"
     ]
    },
    {
     "name": "stderr",
     "output_type": "stream",
     "text": [
      "100%|██████████| 3/3 [18:43<00:00, 374.55s/it]"
     ]
    },
    {
     "name": "stdout",
     "output_type": "stream",
     "text": [
      "Validation Loss decreased, saving new best model\n",
      "Epochs = 2, Validation Loss : 0.019655724987387657\n",
      "Training Done\n"
     ]
    },
    {
     "name": "stderr",
     "output_type": "stream",
     "text": [
      "\n"
     ]
    }
   ],
   "source": [
    "print(\"------------ Dataloader Created ------------\")\n",
    "\n",
    "loss_fn = nn.MSELoss()\n",
    "encoder = ConvEncoder()\n",
    "decoder = ConvDecoder()\n",
    "\n",
    "if torch.cuda.is_available():\n",
    "    print(\"GPU Availaible moving models to GPU\")\n",
    "else:\n",
    "    print(\"Moving models to CPU\")\n",
    "\n",
    "encoder.to(device)\n",
    "decoder.to(device)\n",
    "\n",
    "autoencoder_params = list(encoder.parameters()) + list(decoder.parameters())\n",
    "optimizer = optim.AdamW(autoencoder_params, lr=LEARNING_RATE)\n",
    "max_loss = 9999\n",
    "\n",
    "print(\"------------ Training started ------------\")\n",
    "\n",
    "for epoch in tqdm(range(EPOCHS)):\n",
    "    train_loss = train_step(\n",
    "        encoder, decoder, train_loader, loss_fn, optimizer, device=device\n",
    "    )\n",
    "    print(f\"Epochs = {epoch}, Training Loss : {train_loss}\")\n",
    "    val_loss = val_step(\n",
    "        encoder, decoder, val_loader, loss_fn, device=device\n",
    "    )\n",
    "\n",
    "    if val_loss < max_loss:\n",
    "        print(\"Validation Loss decreased, saving new best model\")\n",
    "        torch.save(encoder.state_dict(), ENCODER_MODEL_PATH)\n",
    "        torch.save(decoder.state_dict(), DECODER_MODEL_PATH)\n",
    "\n",
    "    print(f\"Epochs = {epoch}, Validation Loss : {val_loss}\")\n",
    "\n",
    "print(\"Training Done\")"
   ]
  },
  {
   "cell_type": "code",
   "execution_count": 71,
   "metadata": {},
   "outputs": [],
   "source": [
    "def create_embedding(encoder, full_loader, embedding_dim, device):\n",
    "    encoder.eval()\n",
    "    embedding = torch.randn(embedding_dim)\n",
    "    with torch.no_grad():\n",
    "        for batch_idx, (train_img, target_img) in enumerate(full_loader):\n",
    "            train_img = train_img.to(device)\n",
    "            enc_output = encoder(train_img).cpu()\n",
    "            embedding = torch.cat((embedding, enc_output), 0)\n",
    "\n",
    "    return embedding"
   ]
  },
  {
   "cell_type": "code",
   "execution_count": 76,
   "metadata": {},
   "outputs": [],
   "source": [
    "embedding = create_embedding(encoder, full_loader, EMBEDDING_SHAPE, device)"
   ]
  },
  {
   "cell_type": "code",
   "execution_count": 77,
   "metadata": {},
   "outputs": [
    {
     "name": "stdout",
     "output_type": "stream",
     "text": [
      "(3667, 256, 16, 16)\n",
      "(3667, 65536)\n"
     ]
    }
   ],
   "source": [
    "numpy_embedding = embedding.cpu().detach().numpy()\n",
    "print(numpy_embedding.shape)\n",
    "num_images = numpy_embedding.shape[0]\n",
    "flattened_embedding = numpy_embedding.reshape((num_images, -1))\n",
    "print(flattened_embedding.shape)\n",
    "import numpy as np\n",
    "np.save(\"data_embedding_f.npy\", flattened_embedding)"
   ]
  }
 ],
 "metadata": {
  "kernelspec": {
   "display_name": "Python 3.9.10 64-bit ('3.9.10')",
   "language": "python",
   "name": "python3"
  },
  "language_info": {
   "codemirror_mode": {
    "name": "ipython",
    "version": 3
   },
   "file_extension": ".py",
   "mimetype": "text/x-python",
   "name": "python",
   "nbconvert_exporter": "python",
   "pygments_lexer": "ipython3",
   "version": "3.9.10"
  },
  "orig_nbformat": 4,
  "vscode": {
   "interpreter": {
    "hash": "3c9c1cb92ab039c53a0f0c6a3a1c445ea784bd0a545c5bb81dae74e9464ebef1"
   }
  }
 },
 "nbformat": 4,
 "nbformat_minor": 2
}
