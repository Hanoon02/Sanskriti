{
 "cells": [
  {
   "cell_type": "code",
   "execution_count": 37,
   "metadata": {},
   "outputs": [
    {
     "name": "stderr",
     "output_type": "stream",
     "text": [
      "[nltk_data] Downloading package punkt to /Users/hanoon/nltk_data...\n",
      "[nltk_data]   Package punkt is already up-to-date!\n",
      "[nltk_data] Downloading package stopwords to\n",
      "[nltk_data]     /Users/hanoon/nltk_data...\n",
      "[nltk_data]   Package stopwords is already up-to-date!\n"
     ]
    },
    {
     "name": "stdout",
     "output_type": "stream",
     "text": [
      "The text contains image-related keywords.\n"
     ]
    }
   ],
   "source": [
    "import re\n",
    "import nltk\n",
    "from nltk.tokenize import word_tokenize\n",
    "from nltk.corpus import stopwords\n",
    "\n",
    "class Chatbot:\n",
    "    def __init__(self):\n",
    "        nltk.download('punkt')\n",
    "        nltk.download('stopwords')\n",
    "        self.stop_words = set(stopwords.words('english'))\n",
    "        self.image_keywords = ['image', 'photo', 'images', 'picture', 'photograph', 'photos'] \n",
    "\n",
    "    def preprocess_text(self, text):\n",
    "        tokens = word_tokenize(text.lower())\n",
    "        tokens = [token for token in tokens if token.isalnum() and token not in self.stop_words]\n",
    "        return tokens\n",
    "\n",
    "    def contains_image_keywords(self, text):\n",
    "        tokens = self.preprocess_text(text)\n",
    "        for token in tokens:\n",
    "            if any(re.search(r'\\b{}\\b'.format(keyword), token) for keyword in self.image_keywords):\n",
    "                return True\n",
    "        return False\n",
    "\n",
    "chatbot = Chatbot()\n",
    "user_input = input(\"Enter your text: \")\n",
    "if chatbot.contains_image_keywords(user_input):\n",
    "    print(\"The text contains image-related keywords.\")\n",
    "else:\n",
    "    print(\"The text does not contain image-related keywords.\")\n"
   ]
  }
 ],
 "metadata": {
  "kernelspec": {
   "display_name": "Python 3.9.10 64-bit ('3.9.10')",
   "language": "python",
   "name": "python3"
  },
  "language_info": {
   "codemirror_mode": {
    "name": "ipython",
    "version": 3
   },
   "file_extension": ".py",
   "mimetype": "text/x-python",
   "name": "python",
   "nbconvert_exporter": "python",
   "pygments_lexer": "ipython3",
   "version": "3.9.10"
  },
  "orig_nbformat": 4,
  "vscode": {
   "interpreter": {
    "hash": "3c9c1cb92ab039c53a0f0c6a3a1c445ea784bd0a545c5bb81dae74e9464ebef1"
   }
  }
 },
 "nbformat": 4,
 "nbformat_minor": 2
}
